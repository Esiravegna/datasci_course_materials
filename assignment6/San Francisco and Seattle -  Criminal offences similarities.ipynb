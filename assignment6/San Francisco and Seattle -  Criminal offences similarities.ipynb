{
 "cells": [
  {
   "cell_type": "markdown",
   "metadata": {},
   "source": [
    "# San Francisco and Seattle -  Criminal offences similarities\n",
    "\n",
    "\n",
    "## Methodology\n",
    "\n",
    "This iPython notebook aims to try to discover, if any, similarities between the criminal patterns by month and the offences per capita (when comparable) betwen San Francisco and Seattle, in the months of summer of 2014. \n",
    "\n",
    "For that aim, the code below will be using, each step described accordingly.\n",
    "\n",
    "## Development"
   ]
  },
  {
   "cell_type": "code",
   "execution_count": 158,
   "metadata": {
    "collapsed": false
   },
   "outputs": [],
   "source": [
    "import numpy as np\n",
    "import pandas as pd\n",
    "import plotly.plotly as py\n",
    "from plotly.graph_objs import *\n",
    "from plotly.offline import download_plotlyjs, init_notebook_mode, iplot\n",
    "import warnings\n",
    "init_notebook_mode()\n",
    "warnings.filterwarnings('ignore')\n",
    "month = ['January', 'February', 'March', 'April', 'May', 'June', 'July',\n",
    "         'August', 'September', 'October', 'November', 'December']"
   ]
  },
  {
   "cell_type": "code",
   "execution_count": 113,
   "metadata": {
    "collapsed": true
   },
   "outputs": [],
   "source": [
    "san_francisco = pd.read_csv(\"https://raw.githubusercontent.com/uwescience/datasci_course_materials/master/assignment6/sanfrancisco_incidents_summer_2014.csv\")\n",
    "seattle = pd.read_csv(\"https://raw.githubusercontent.com/uwescience/datasci_course_materials/master/assignment6/seattle_incidents_summer_2014.csv\")\n",
    "san_francisco['month'] = pd.DatetimeIndex(san_francisco['Date']).month"
   ]
  },
  {
   "cell_type": "markdown",
   "metadata": {},
   "source": [
    "The libraries are imported, the dataset loaded, the month column added to the San Francisco dataset, as it is missing."
   ]
  },
  {
   "cell_type": "code",
   "execution_count": 156,
   "metadata": {
    "collapsed": false
   },
   "outputs": [],
   "source": [
    "type_crimes_sf = san_francisco['Category'].unique()\n",
    "type_crimes_seattle = seattle['Summarized Offense Description'].unique()\n",
    "crimes_per_day_sf = san_francisco.groupby(san_francisco['month'])['Category'].count().reset_index()\n",
    "crimes_per_day_seattle = seattle.groupby(seattle['Month'])['RMS CDW ID'].count().reset_index()\n",
    "san_francisco_population = 4.335 * 1e6\n",
    "seattle_population = 662400\n",
    "common_crimes = set(type_crimes_seattle).intersection(type_crimes_sf)\n",
    "crime_per_capita = pd.DataFrame(\n",
    "{\"San Francisco\": \n",
    "san_francisco[san_francisco['Category'].isin(common_crimes)].\n",
    "groupby(['Category'])['PdId'].count().apply(lambda x: (x/san_francisco_population) * 100000) ,\n",
    " \"Seattle\":\n",
    "seattle[seattle['Summarized Offense Description'].isin(common_crimes)].\n",
    "groupby(['Summarized Offense Description'])['RMS CDW ID'].count().apply(lambda x: (x/seattle_population) * 100000)})"
   ]
  },
  {
   "cell_type": "markdown",
   "metadata": {},
   "source": [
    "In this point, we got our working dataset, and the matching criminal offences list created, plus the crime per capita, per 100,000 people, also calculated, using the estimated population in 2014 of both cities, both available in their data portals"
   ]
  },
  {
   "cell_type": "code",
   "execution_count": 157,
   "metadata": {
    "collapsed": false
   },
   "outputs": [],
   "source": [
    "data = [\n",
    "    Scatter(\n",
    "        y=crimes_per_day_sf['Category'], # assign x as the dataframe column 'x'\n",
    "        x=[month[x] for x in crimes_per_day_sf['month']],\n",
    "        name= 'San Francisco'\n",
    "    ),\n",
    "    Scatter(\n",
    "        y=crimes_per_day_seattle['RMS CDW ID'], # assign x as the dataframe column 'x'\n",
    "        x=[month[x] for x in crimes_per_day_seattle['Month']],\n",
    "        name= 'Seattle'\n",
    "    ),\n",
    "    \n",
    "]\n",
    "layout = dict(title = 'Criminal offences by month in San Francisco Vs Seattle',\n",
    "              xaxis = dict(title = 'Amount of Offences'),\n",
    "              yaxis = dict(title = 'Month'),\n",
    "              )\n",
    "fig = Figure(data=data,layout=layout)"
   ]
  },
  {
   "cell_type": "markdown",
   "metadata": {},
   "source": [
    "## Conclusions and Findings\n",
    "\n",
    "\n",
    "We can briefly extract two broad conclussions here.\n",
    "\n",
    "- From the chart below, it becomes apparent that along the course of the summer the overall crime figures decreases in Seattle and increases in San Francisco. The reason for this seemingly so seasonal behaviour has to be explained, perhaps with a correlation analysis of resident flux (it is possible that people leaves the city, yet uncertain), or similar.\n",
    "\n",
    "- From the table summarized, except for Disorderly Conduct, Seattle appears to be a far more dangerous place to live than San Francisco. Of course, due to the fact that Seattl has roughly four times the number of inhabitants, that could be a case of a statistical imbalance (as we're comparing two very different populations). Nonetheless, in the same period and as per the chart submitted, Seattle is also topping the charts in terms of sheer number of reported offences.\n",
    "\n",
    "There is a final caveat and comment: In the provided corpus, the category 'Homicide' was present in San Francisco, whereas in Seattle was not. As the table below also summarizes, most of the offences below are felonies against property (but Assault), thus, this is a no minor finding that needs to be taken in consideration before concluding that a place is more dangerous to live than another.\n",
    "\n",
    "### Criminal trends (overall), summer 2014, San Francisco Vs Seattle"
   ]
  },
  {
   "cell_type": "code",
   "execution_count": 160,
   "metadata": {
    "collapsed": false,
    "scrolled": true
   },
   "outputs": [
    {
     "data": {
      "text/html": [
       "<div id=\"4d31b6a6-61c7-4401-8f33-6c11d6da9298\" style=\"height: 525; width: 100%;\" class=\"plotly-graph-div\"></div><script type=\"text/javascript\">require([\"plotly\"], function(Plotly) { window.PLOTLYENV=window.PLOTLYENV || {};window.PLOTLYENV.BASE_URL=\"https://plot.ly\";Plotly.newPlot(\"4d31b6a6-61c7-4401-8f33-6c11d6da9298\", [{\"x\": [\"July\", \"August\", \"September\"], \"name\": \"San Francisco\", \"y\": [9114, 9671, 10208], \"type\": \"scatter\"}, {\"x\": [\"July\", \"August\", \"September\"], \"name\": \"Seattle\", \"y\": [11125, 11154, 10500], \"type\": \"scatter\"}], {\"yaxis\": {\"title\": \"Month\"}, \"title\": \"Criminal offences by month in San Francisco Vs Seattle\", \"xaxis\": {\"title\": \"Amount of Offences\"}}, {\"showLink\": true, \"linkText\": \"Export to plot.ly\"})});</script>"
      ],
      "text/plain": [
       "<IPython.core.display.HTML object>"
      ]
     },
     "metadata": {},
     "output_type": "display_data"
    }
   ],
   "source": [
    "iplot(fig)"
   ]
  },
  {
   "cell_type": "markdown",
   "metadata": {},
   "source": [
    "![](./sanfrancisco.png)\n",
    "### Crime Per Capita - San Francisco vs Seattle\n",
    "\n",
    "Offences per 100,000 inhabitants.\n"
   ]
  },
  {
   "cell_type": "code",
   "execution_count": 155,
   "metadata": {
    "collapsed": false
   },
   "outputs": [
    {
     "data": {
      "text/html": [
       "<div>\n",
       "<table border=\"1\" class=\"dataframe\">\n",
       "  <thead>\n",
       "    <tr style=\"text-align: right;\">\n",
       "      <th></th>\n",
       "      <th>San Francisco</th>\n",
       "      <th>Seattle</th>\n",
       "    </tr>\n",
       "    <tr>\n",
       "      <th>Category</th>\n",
       "      <th></th>\n",
       "      <th></th>\n",
       "    </tr>\n",
       "  </thead>\n",
       "  <tbody>\n",
       "    <tr>\n",
       "      <th>ASSAULT</th>\n",
       "      <td>66.482122</td>\n",
       "      <td>304.649758</td>\n",
       "    </tr>\n",
       "    <tr>\n",
       "      <th>BURGLARY</th>\n",
       "      <td>0.138408</td>\n",
       "      <td>484.903382</td>\n",
       "    </tr>\n",
       "    <tr>\n",
       "      <th>DISORDERLY CONDUCT</th>\n",
       "      <td>0.715110</td>\n",
       "      <td>0.301932</td>\n",
       "    </tr>\n",
       "    <tr>\n",
       "      <th>FRAUD</th>\n",
       "      <td>5.582468</td>\n",
       "      <td>222.373188</td>\n",
       "    </tr>\n",
       "    <tr>\n",
       "      <th>PROSTITUTION</th>\n",
       "      <td>2.583622</td>\n",
       "      <td>30.495169</td>\n",
       "    </tr>\n",
       "    <tr>\n",
       "      <th>ROBBERY</th>\n",
       "      <td>7.104960</td>\n",
       "      <td>111.111111</td>\n",
       "    </tr>\n",
       "    <tr>\n",
       "      <th>STOLEN PROPERTY</th>\n",
       "      <td>0.184544</td>\n",
       "      <td>171.497585</td>\n",
       "    </tr>\n",
       "    <tr>\n",
       "      <th>TRESPASS</th>\n",
       "      <td>6.482122</td>\n",
       "      <td>73.369565</td>\n",
       "    </tr>\n",
       "    <tr>\n",
       "      <th>VEHICLE THEFT</th>\n",
       "      <td>45.351788</td>\n",
       "      <td>461.503623</td>\n",
       "    </tr>\n",
       "  </tbody>\n",
       "</table>\n",
       "</div>"
      ],
      "text/plain": [
       "                    San Francisco     Seattle\n",
       "Category                                     \n",
       "ASSAULT                 66.482122  304.649758\n",
       "BURGLARY                 0.138408  484.903382\n",
       "DISORDERLY CONDUCT       0.715110    0.301932\n",
       "FRAUD                    5.582468  222.373188\n",
       "PROSTITUTION             2.583622   30.495169\n",
       "ROBBERY                  7.104960  111.111111\n",
       "STOLEN PROPERTY          0.184544  171.497585\n",
       "TRESPASS                 6.482122   73.369565\n",
       "VEHICLE THEFT           45.351788  461.503623"
      ]
     },
     "execution_count": 155,
     "metadata": {},
     "output_type": "execute_result"
    }
   ],
   "source": [
    "crime_per_capita"
   ]
  },
  {
   "cell_type": "code",
   "execution_count": null,
   "metadata": {
    "collapsed": true
   },
   "outputs": [],
   "source": []
  }
 ],
 "metadata": {
  "kernelspec": {
   "display_name": "Python 3",
   "language": "python",
   "name": "python3"
  },
  "language_info": {
   "codemirror_mode": {
    "name": "ipython",
    "version": 3
   },
   "file_extension": ".py",
   "mimetype": "text/x-python",
   "name": "python",
   "nbconvert_exporter": "python",
   "pygments_lexer": "ipython3",
   "version": "3.5.1"
  }
 },
 "nbformat": 4,
 "nbformat_minor": 0
}
